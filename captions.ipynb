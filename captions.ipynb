{
 "cells": [
  {
   "cell_type": "code",
   "execution_count": 50,
   "metadata": {},
   "outputs": [],
   "source": [
    "import json\n",
    "import numpy as np"
   ]
  },
  {
   "cell_type": "code",
   "execution_count": 52,
   "metadata": {},
   "outputs": [],
   "source": [
    "annotations_file = 'COCO_dataset/captions.json'\n",
    "\n",
    "\n",
    "with open(annotations_file, 'r') as file:\n",
    "    coco_data = json.load(file)"
   ]
  },
  {
   "cell_type": "code",
   "execution_count": 53,
   "metadata": {},
   "outputs": [],
   "source": [
    "image_id_to_name = {image['id']: image['file_name']\n",
    "                    for image in coco_data['images']}\n",
    "image_name_to_id = {image['file_name']: image['id']\n",
    "                    for image in coco_data['images']}\n",
    "\n",
    "\n",
    "file_name_to_longest_caption = {}\n"
   ]
  },
  {
   "cell_type": "code",
   "execution_count": 54,
   "metadata": {},
   "outputs": [],
   "source": [
    "for annotation in coco_data['annotations']:\n",
    "    image_id = annotation['image_id']\n",
    "    caption = annotation['caption']\n",
    "    file_name = image_id_to_name[image_id]\n",
    "\n",
    "    # Check if this caption is the longest for this image\n",
    "    if file_name not in file_name_to_longest_caption or len(caption) > len(file_name_to_longest_caption[file_name]):\n",
    "        file_name_to_longest_caption[file_name] = caption\n"
   ]
  },
  {
   "cell_type": "code",
   "execution_count": 59,
   "metadata": {},
   "outputs": [
    {
     "data": {
      "text/plain": [
       "'White Plate with a lot of guacamole and an extra large dollop of sour cream over meat'"
      ]
     },
     "execution_count": 59,
     "metadata": {},
     "output_type": "execute_result"
    }
   ],
   "source": [
    "file_name_to_longest_caption['COCO_train2014_000000133071.jpg']\n"
   ]
  },
  {
   "cell_type": "code",
   "execution_count": 60,
   "metadata": {},
   "outputs": [],
   "source": [
    "import os\n",
    "folder_path = \"COCO_dataset/images\"\n",
    "image_paths = [img_name for img_name in os.listdir(\n",
    "    folder_path) if img_name.endswith((\".jpg\", \".jpeg\", \".png\"))]\n"
   ]
  },
  {
   "cell_type": "code",
   "execution_count": null,
   "metadata": {},
   "outputs": [],
   "source": [
    "found_captions = {}\n",
    "\n",
    "for image_name in image_paths:\n",
    "    caption = file_name_to_longest_caption.get(image_name)\n",
    "    if caption is not None:\n",
    "        found_captions[image_name] = caption\n",
    "    else:\n",
    "        print(image_name)\n",
    "print(f\"Number of images found: {len(found_captions)}\")\n",
    "print(f\"Matched image names and their captions: {found_captions}\")\n"
   ]
  },
  {
   "cell_type": "code",
   "execution_count": null,
   "metadata": {},
   "outputs": [],
   "source": [
    "\n",
    "data_array = np.array(list(found_captions.items()), dtype=object)\n",
    "np.save('image_to_caption.npy', data_array)\n"
   ]
  }
 ],
 "metadata": {
  "kernelspec": {
   "display_name": "Python 3.11.1 64-bit",
   "language": "python",
   "name": "python3"
  },
  "language_info": {
   "codemirror_mode": {
    "name": "ipython",
    "version": 3
   },
   "file_extension": ".py",
   "mimetype": "text/x-python",
   "name": "python",
   "nbconvert_exporter": "python",
   "pygments_lexer": "ipython3",
   "version": "3.11.1"
  },
  "orig_nbformat": 4,
  "vscode": {
   "interpreter": {
    "hash": "1a1af0ee75eeea9e2e1ee996c87e7a2b11a0bebd85af04bb136d915cefc0abce"
   }
  }
 },
 "nbformat": 4,
 "nbformat_minor": 2
}
